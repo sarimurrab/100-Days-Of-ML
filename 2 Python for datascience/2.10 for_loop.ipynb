{
 "cells": [
  {
   "cell_type": "markdown",
   "metadata": {
    "colab_type": "text",
    "id": "OaeSlvRlQxZr"
   },
   "source": [
    "# Python for Loop"
   ]
  },
  {
   "cell_type": "markdown",
   "metadata": {
    "colab_type": "text",
    "id": "mWRuZi5wQxZu"
   },
   "source": [
    "The for loop in Python is used to iterate over a sequence (list, tuple, string) or other iterable objects. \n",
    "    \n",
    "Iterating over a sequence is called traversal."
   ]
  },
  {
   "cell_type": "markdown",
   "metadata": {
    "colab_type": "text",
    "id": "HoHdlyZkQxZx"
   },
   "source": [
    "# Syntax:"
   ]
  },
  {
   "cell_type": "markdown",
   "metadata": {
    "colab_type": "text",
    "id": "8zrVIhSuQxZz"
   },
   "source": [
    "    for element in sequence :\n",
    "\n",
    "        Body of for"
   ]
  },
  {
   "cell_type": "markdown",
   "metadata": {
    "colab_type": "text",
    "id": "MmQ0IYynQxZ1"
   },
   "source": [
    "Here, element is the variable that takes the value of the item inside the sequence on each iteration.\n",
    "\n",
    "Loop continues until we reach the last item in the sequence. "
   ]
  },
  {
   "cell_type": "markdown",
   "metadata": {
    "colab_type": "text",
    "id": "kEAa_ccxQxZ2"
   },
   "source": [
    "# Flow Chart"
   ]
  },
  {
   "cell_type": "markdown",
   "metadata": {
    "colab_type": "text",
    "id": "521Cq0xfQxZ4"
   },
   "source": [
    "![title](forLoop.jpg)"
   ]
  },
  {
   "cell_type": "markdown",
   "metadata": {
    "colab_type": "text",
    "id": "OuwDO8SlQxZ6"
   },
   "source": [
    "# Example"
   ]
  },
  {
   "cell_type": "code",
   "execution_count": 0,
   "metadata": {
    "colab": {},
    "colab_type": "code",
    "id": "htEE3yt7QxZ8",
    "outputId": "215cb822-3d89-4abb-8f79-636007e1c1c3"
   },
   "outputs": [
    {
     "name": "stdout",
     "output_type": "stream",
     "text": [
      "Product is: 12000000\n"
     ]
    }
   ],
   "source": [
    "#Find product of all numbers present in a list\n",
    "\n",
    "lst = [10, 20, 30, 40, 50]\n",
    "\n",
    "product = 1\n",
    "#iterating over the list\n",
    "for ele in lst:\n",
    "    product *= ele\n",
    "\n",
    "print(\"Product is: {}\".format(product))"
   ]
  },
  {
   "cell_type": "markdown",
   "metadata": {
    "colab_type": "text",
    "id": "3FMtLcozQxaG"
   },
   "source": [
    "# range() function"
   ]
  },
  {
   "cell_type": "markdown",
   "metadata": {
    "colab_type": "text",
    "id": "lVF4Vy6KQxaH"
   },
   "source": [
    "We can generate a sequence of numbers using range() function. range(10) will generate numbers from 0 to 9 (10 numbers).\n",
    "\n",
    "We can also define the start, stop and step size as range(start,stop,step size). step size defaults to 1 if not provided.\n",
    "\n",
    "This function does not store all the values in memory, it would be inefficient. So it remembers the start, stop, step size and generates the next number on the go."
   ]
  },
  {
   "cell_type": "code",
   "execution_count": 0,
   "metadata": {
    "colab": {},
    "colab_type": "code",
    "id": "xp3D6jNTQxaI",
    "outputId": "622ffafa-4ae9-4602-d6ae-02500828aa7a"
   },
   "outputs": [
    {
     "name": "stdout",
     "output_type": "stream",
     "text": [
      "0\n",
      "1\n",
      "2\n",
      "3\n",
      "4\n",
      "5\n",
      "6\n",
      "7\n",
      "8\n",
      "9\n"
     ]
    }
   ],
   "source": [
    "#print range of 10\n",
    "for i in range(10):\n",
    "    print(i)"
   ]
  },
  {
   "cell_type": "code",
   "execution_count": 0,
   "metadata": {
    "colab": {},
    "colab_type": "code",
    "id": "HeGUHz5BQxaN",
    "outputId": "a27f27fc-0629-40b1-9f98-a90e7faca0d1"
   },
   "outputs": [
    {
     "name": "stdout",
     "output_type": "stream",
     "text": [
      "0\n",
      "5\n",
      "10\n",
      "15\n"
     ]
    }
   ],
   "source": [
    "#print range of numbers from 1 to 20 with step size of 2\n",
    "for i in range(0, 20, 5):\n",
    "    print(i)"
   ]
  },
  {
   "cell_type": "code",
   "execution_count": 0,
   "metadata": {
    "colab": {},
    "colab_type": "code",
    "id": "6qX7nCCEQxaQ",
    "outputId": "f20c8ea8-5ea5-4c64-ae23-665de980254a"
   },
   "outputs": [
    {
     "name": "stdout",
     "output_type": "stream",
     "text": [
      "satish\n",
      "srinu\n",
      "murali\n",
      "naveen\n",
      "bramha\n"
     ]
    }
   ],
   "source": [
    "lst = [\"satish\", \"srinu\", \"murali\", \"naveen\", \"bramha\"]\n",
    "\n",
    "#iterate over the list using index\n",
    "#for index in range(len(lst)):\n",
    "#    print(lst[index])\n",
    "for ele in lst:\n",
    "    print(ele)"
   ]
  },
  {
   "cell_type": "markdown",
   "metadata": {
    "colab_type": "text",
    "id": "q4hvJ3n6QxaU"
   },
   "source": [
    "# for loop with else"
   ]
  },
  {
   "cell_type": "markdown",
   "metadata": {
    "colab_type": "text",
    "id": "tUGZf_sQQxaW"
   },
   "source": [
    "A for loop can have an optional else block as well. The else part is executed if the items in the sequence used in for loop exhausts.\n",
    "\n",
    "break statement can be used to stop a for loop. In such case, the else part is ignored.\n",
    "\n",
    "Hence, a for loop's else part runs if no break occurs."
   ]
  },
  {
   "cell_type": "code",
   "execution_count": 0,
   "metadata": {
    "colab": {},
    "colab_type": "code",
    "id": "j0fE1yOGQxaX",
    "outputId": "d29bfdbb-d235-4eba-8b5b-d9031772a474"
   },
   "outputs": [
    {
     "name": "stdout",
     "output_type": "stream",
     "text": [
      "1\n",
      "2\n",
      "3\n",
      "no item left in the list\n"
     ]
    }
   ],
   "source": [
    "numbers = [1, 2, 3]\n",
    "\n",
    "#iterating over the list\n",
    "for item in numbers:\n",
    "    print(item)\n",
    "else:\n",
    "    print(\"no item left in the list\")"
   ]
  },
  {
   "cell_type": "code",
   "execution_count": 0,
   "metadata": {
    "colab": {},
    "colab_type": "code",
    "id": "FXDUZ8eaQxac",
    "outputId": "367100da-0fa9-499c-d4c3-0990af072d93"
   },
   "outputs": [
    {
     "name": "stdout",
     "output_type": "stream",
     "text": [
      "1\n",
      "2\n"
     ]
    }
   ],
   "source": [
    "for item in numbers:\n",
    "    print(item)\n",
    "    if item % 2 == 0:\n",
    "        break\n",
    "else:\n",
    "    print(\"no item left in the list\")"
   ]
  },
  {
   "cell_type": "markdown",
   "metadata": {
    "colab_type": "text",
    "id": "m689PmHOQxah"
   },
   "source": [
    "# Python Program to display all prime numbers within an interval"
   ]
  },
  {
   "cell_type": "code",
   "execution_count": 4,
   "metadata": {
    "colab": {},
    "colab_type": "code",
    "id": "5jmBW7vaQxai",
    "outputId": "e3e354d9-986d-4687-edeb-edc5aadc77c8"
   },
   "outputs": [
    {
     "name": "stdout",
     "output_type": "stream",
     "text": [
      "Prime numbers between 20 and 50 are :\n",
      "23\n",
      "29\n",
      "31\n",
      "37\n",
      "41\n",
      "43\n",
      "47\n"
     ]
    }
   ],
   "source": [
    "index1 = 20\n",
    "index2 = 50\n",
    "\n",
    "print(\"Prime numbers between {0} and {1} are :\".format(index1, index2))\n",
    "\n",
    "for num in range(index1, index2+1):      #default step size is 1\n",
    "    if num > 1:\n",
    "        isDivisible = False;\n",
    "        for index in range(2, num):\n",
    "            if num % index == 0:\n",
    "                isDivisible = True;\n",
    "        if not isDivisible:        \n",
    "            print(num);\n",
    "    "
   ]
  },
  {
   "cell_type": "code",
   "execution_count": 0,
   "metadata": {
    "colab": {},
    "colab_type": "code",
    "id": "JTmwS0CEQxam"
   },
   "outputs": [],
   "source": []
  }
 ],
 "metadata": {
  "colab": {
   "name": "for_loop.ipynb",
   "provenance": [],
   "version": "0.3.2"
  },
  "kernelspec": {
   "display_name": "Python 3",
   "language": "python",
   "name": "python3"
  },
  "language_info": {
   "codemirror_mode": {
    "name": "ipython",
    "version": 3
   },
   "file_extension": ".py",
   "mimetype": "text/x-python",
   "name": "python",
   "nbconvert_exporter": "python",
   "pygments_lexer": "ipython3",
   "version": "3.7.1"
  }
 },
 "nbformat": 4,
 "nbformat_minor": 1
}
