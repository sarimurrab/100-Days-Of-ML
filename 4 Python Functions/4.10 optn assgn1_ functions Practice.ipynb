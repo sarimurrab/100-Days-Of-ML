{
 "cells": [
  {
   "cell_type": "code",
   "execution_count": 1,
   "metadata": {},
   "outputs": [],
   "source": [
    "from math import *"
   ]
  },
  {
   "cell_type": "markdown",
   "metadata": {},
   "source": [
    "# Question 1\n",
    "# A Function that inputs a number to be multiplied, another number upto which it has to be multiplied and print the multiplication table of the former numbe"
   ]
  },
  {
   "cell_type": "code",
   "execution_count": 2,
   "metadata": {},
   "outputs": [
    {
     "name": "stdout",
     "output_type": "stream",
     "text": [
      "Enter the number to be multiplied: 15\n",
      "Enter till which number to be multiplied: 5\n",
      "15 x 1 = 15\n",
      "15 x 2 = 30\n",
      "15 x 3 = 45\n",
      "15 x 4 = 60\n",
      "15 x 5 = 75\n"
     ]
    }
   ],
   "source": [
    "def multiplication_table():\n",
    "    '''\n",
    "    Prints Multiplication Table of first entered input until it reaches the multiple of second entered input.\n",
    "    '''\n",
    "    number = int(input('Enter the number to be multiplied: '))\n",
    "    threshold = int(input('Enter till which number to be multiplied: '))\n",
    "    for t in range(1, threshold + 1):\n",
    "        print(str(number) + ' x ' + str(t) + ' = ' + str(number * t))\n",
    "    return\n",
    "\n",
    "multiplication_table()"
   ]
  },
  {
   "cell_type": "markdown",
   "metadata": {},
   "source": [
    "# 2 Write a program to print twin primes less than 1000. If two consecutive odd numbers are both prime then they are known as twin primes"
   ]
  },
  {
   "cell_type": "code",
   "execution_count": 78,
   "metadata": {},
   "outputs": [
    {
     "name": "stdout",
     "output_type": "stream",
     "text": [
      "Prime numbers between 0 and 1000 are : \n",
      "\n",
      "[2, 3, 5, 7, 11, 13, 17, 19, 23, 29, 31, 37, 41, 43, 47, 53, 59, 61, 67, 71, 73, 79, 83, 89, 97, 101, 103, 107, 109, 113, 127, 131, 137, 139, 149, 151, 157, 163, 167, 173, 179, 181, 191, 193, 197, 199, 211, 223, 227, 229, 233, 239, 241, 251, 257, 263, 269, 271, 277, 281, 283, 293, 307, 311, 313, 317, 331, 337, 347, 349, 353, 359, 367, 373, 379, 383, 389, 397, 401, 409, 419, 421, 431, 433, 439, 443, 449, 457, 461, 463, 467, 479, 487, 491, 499, 503, 509, 521, 523, 541, 547, 557, 563, 569, 571, 577, 587, 593, 599, 601, 607, 613, 617, 619, 631, 641, 643, 647, 653, 659, 661, 673, 677, 683, 691, 701, 709, 719, 727, 733, 739, 743, 751, 757, 761, 769, 773, 787, 797, 809, 811, 821, 823, 827, 829, 839, 853, 857, 859, 863, 877, 881, 883, 887, 907, 911, 919, 929, 937, 941, 947, 953, 967, 971, 977, 983, 991, 997]\n",
      "\n",
      "Twim Prime list : \n",
      "\n",
      "[[3, 5], [5, 7], [11, 13], [17, 19], [29, 31], [41, 43], [59, 61], [71, 73], [101, 103], [107, 109], [137, 139], [149, 151], [179, 181], [191, 193], [197, 199], [227, 229], [239, 241], [269, 271], [281, 283], [311, 313], [347, 349], [419, 421], [431, 433], [461, 463], [521, 523], [569, 571], [599, 601], [617, 619], [641, 643], [659, 661], [809, 811], [821, 823], [827, 829], [857, 859], [881, 883]]\n"
     ]
    }
   ],
   "source": [
    "#calculate prime list\n",
    "index1 = 0\n",
    "index2 = 1000\n",
    "lst=[]\n",
    "print(\"Prime numbers between {0} and {1} are : \\n\".format(index1, index2))\n",
    "\n",
    "for num in range(index1, index2+1):      #default step size is 1\n",
    "    if num > 1:\n",
    "        isDivisible = False;\n",
    "        for index in range(2, num):\n",
    "            if num % index == 0:\n",
    "                isDivisible = True;\n",
    "            \n",
    "        if not isDivisible:        \n",
    "            lst.append(num)\n",
    "print(lst)\n",
    "\n",
    "\n",
    "\n",
    "#calculate twin primes\n",
    "f=[]\n",
    "s=[]\n",
    "for k in range(len(lst)-1):\n",
    "    m=[]\n",
    "    if abs(lst[k]-lst[k+1])==2:\n",
    "        m.append(lst[k])\n",
    "        m.append(lst[k+1])\n",
    "    s.append(m)\n",
    "for h in s:\n",
    "    if len(h)==2:\n",
    "        f.append(h)\n",
    "\n",
    "print(\"\\nTwim Prime list : \\n\")\n",
    "print(f)\n",
    "\n",
    "    "
   ]
  },
  {
   "cell_type": "markdown",
   "metadata": {},
   "source": [
    "# 3 Write a program to find out the prime factors of a number. Example: prime factors of 56 - 2, 2, 2, 7"
   ]
  },
  {
   "cell_type": "code",
   "execution_count": 156,
   "metadata": {},
   "outputs": [
    {
     "name": "stdout",
     "output_type": "stream",
     "text": [
      "Enter the number : 7803\n",
      "[3, 17]\n"
     ]
    }
   ],
   "source": [
    "def checkprime(m):   #True = prime     False = non-prime\n",
    "    if m>1:\n",
    "        if m==2:                   #   2 is always a prime number\n",
    "            return True            #   2 is first prime number\n",
    "        var=True\n",
    "        for b in range(2,m):\n",
    "                if m%b==0:\n",
    "                    var= False\n",
    "                \n",
    "        return var\n",
    "                \n",
    "#Now check for factor and then factor with prime\n",
    "l=[]\n",
    "n = int(input(\"Enter the number : \"))\n",
    "for i in range (2,n+1):         # 2,3,4...........n\n",
    "    c=checkprime(i)\n",
    "    #print(c)\n",
    "    if c==True:\n",
    "        if n%i ==0:\n",
    "            l.append(i)\n",
    "print(l)\n",
    "                 \n",
    "                \n",
    "\n"
   ]
  },
  {
   "cell_type": "markdown",
   "metadata": {},
   "source": [
    "# Alternate"
   ]
  },
  {
   "cell_type": "code",
   "execution_count": 158,
   "metadata": {},
   "outputs": [
    {
     "ename": "NameError",
     "evalue": "name 'list_all_primes' is not defined",
     "output_type": "error",
     "traceback": [
      "\u001b[1;31m---------------------------------------------------------------------------\u001b[0m",
      "\u001b[1;31mNameError\u001b[0m                                 Traceback (most recent call last)",
      "\u001b[1;32m<ipython-input-158-a690259c4fa6>\u001b[0m in \u001b[0;36m<module>\u001b[1;34m\u001b[0m\n\u001b[0;32m     28\u001b[0m     \u001b[1;32mreturn\u001b[0m \u001b[0mall_prime_factors\u001b[0m\u001b[1;33m\u001b[0m\u001b[1;33m\u001b[0m\u001b[0m\n\u001b[0;32m     29\u001b[0m \u001b[1;33m\u001b[0m\u001b[0m\n\u001b[1;32m---> 30\u001b[1;33m \u001b[0mprint\u001b[0m\u001b[1;33m(\u001b[0m\u001b[0mlist_all_prime_factors\u001b[0m\u001b[1;33m(\u001b[0m\u001b[1;36m56\u001b[0m\u001b[1;33m)\u001b[0m\u001b[1;33m)\u001b[0m\u001b[1;33m\u001b[0m\u001b[1;33m\u001b[0m\u001b[0m\n\u001b[0m",
      "\u001b[1;32m<ipython-input-158-a690259c4fa6>\u001b[0m in \u001b[0;36mlist_all_prime_factors\u001b[1;34m(num)\u001b[0m\n\u001b[0;32m     18\u001b[0m         \u001b[1;32mreturn\u001b[0m \u001b[1;33m[\u001b[0m\u001b[0mnum\u001b[0m\u001b[1;33m]\u001b[0m\u001b[1;33m\u001b[0m\u001b[1;33m\u001b[0m\u001b[0m\n\u001b[0;32m     19\u001b[0m \u001b[1;33m\u001b[0m\u001b[0m\n\u001b[1;32m---> 20\u001b[1;33m     \u001b[0mall_primes\u001b[0m \u001b[1;33m=\u001b[0m \u001b[0mlist_all_primes\u001b[0m\u001b[1;33m(\u001b[0m\u001b[0mnum\u001b[0m\u001b[1;33m)\u001b[0m\u001b[1;33m\u001b[0m\u001b[1;33m\u001b[0m\u001b[0m\n\u001b[0m\u001b[0;32m     21\u001b[0m     \u001b[0mall_prime_factors\u001b[0m \u001b[1;33m=\u001b[0m \u001b[1;33m[\u001b[0m\u001b[1;33m]\u001b[0m\u001b[1;33m\u001b[0m\u001b[1;33m\u001b[0m\u001b[0m\n\u001b[0;32m     22\u001b[0m \u001b[1;33m\u001b[0m\u001b[0m\n",
      "\u001b[1;31mNameError\u001b[0m: name 'list_all_primes' is not defined"
     ]
    }
   ],
   "source": [
    "def check_prime(num):\n",
    "    '''\n",
    "    Arg: A number to check if prime or not\n",
    "    Returns: True if prime and False otherwise\n",
    "    '''\n",
    "    if num > 1:\n",
    "        for i in range(2, ceil(sqrt(num)) + 1):\n",
    "            if num % i == 0 and i != num:\n",
    "                return False\n",
    "        return True\n",
    "    return False\n",
    "def list_all_prime_factors(num):\n",
    "    '''\n",
    "    Arg: A number on which prime factorization has to be performed\n",
    "    Return: List containing prime factors of the passed in number.\n",
    "    '''\n",
    "    if check_prime(num):\n",
    "        return [num]\n",
    "    \n",
    "    all_primes = list_all_primes(num)\n",
    "    all_prime_factors = []\n",
    "    \n",
    "    for each_prime in all_primes:\n",
    "        while num % each_prime == 0 and num > 1:\n",
    "            all_prime_factors.append(each_prime)\n",
    "            num /= each_prime\n",
    "            \n",
    "    return all_prime_factors\n",
    "\n",
    "print(list_all_prime_factors(56))\n"
   ]
  },
  {
   "cell_type": "markdown",
   "metadata": {},
   "source": [
    "# 4. Write a program to implement these formulae of permutations and combinations.Number of permutations of n objects taken r at a time: p(n, r) = n! / (n-r)!. Number of combinations of n objects taken r at a time is: c(n, r) = n! / (r!*(n-r)!) = p(n,r) / r!"
   ]
  },
  {
   "cell_type": "code",
   "execution_count": 159,
   "metadata": {},
   "outputs": [
    {
     "data": {
      "text/plain": [
       "(20, 10)"
      ]
     },
     "execution_count": 159,
     "metadata": {},
     "output_type": "execute_result"
    }
   ],
   "source": [
    "def factorial(num):\n",
    "    '''\n",
    "    Arg: A number to find factorial for\n",
    "    Return: Factorial of a given number\n",
    "    '''\n",
    "    if num == 0 or num == 1:\n",
    "        return 1\n",
    "    return num * factorial(num - 1)\n",
    "\n",
    "def p_and_c(n, r):\n",
    "    '''\n",
    "    Args: number of objects in all, n and number of objects taken at a time, r\n",
    "    Returns: Both the values of permutation and combination\n",
    "    '''\n",
    "    p = int(factorial(n) / factorial(n - r))\n",
    "    c = int(p / factorial(r))\n",
    "    return p, c\n",
    "\n",
    "p_and_c(5, 2)"
   ]
  },
  {
   "cell_type": "markdown",
   "metadata": {},
   "source": [
    "# 5. Write a function that converts a decimal number to binary number"
   ]
  },
  {
   "cell_type": "code",
   "execution_count": 160,
   "metadata": {},
   "outputs": [
    {
     "data": {
      "text/plain": [
       "1010"
      ]
     },
     "execution_count": 160,
     "metadata": {},
     "output_type": "execute_result"
    }
   ],
   "source": [
    "def decimal_to_binary(num):\n",
    "    '''\n",
    "    Arg: A Number in Decimal Format\n",
    "    Return: A Number in Binary Format\n",
    "    '''\n",
    "    \n",
    "    if num < 0:\n",
    "        return -1 * decimal_to_binary(abs(num))\n",
    "    \n",
    "    if num == 0:\n",
    "        return 0\n",
    "    \n",
    "    binary_reverse = ''\n",
    "    while(num):\n",
    "        binary_reverse += (str(num % 2))\n",
    "        num = int(num / 2)\n",
    "    return int(binary_reverse[::-1])\n",
    "\n",
    "decimal_to_binary(10)"
   ]
  },
  {
   "cell_type": "markdown",
   "metadata": {},
   "source": [
    "# 6. Write a function cubesum() that accepts an integer and returns the sum of the cubes of individual digits of that number. Use this function to make functions PrintArmstrong() and isArmstrong() to print Armstrong numbers and to find whether is an Armstrong number."
   ]
  },
  {
   "cell_type": "code",
   "execution_count": 161,
   "metadata": {},
   "outputs": [
    {
     "data": {
      "text/plain": [
       "371"
      ]
     },
     "execution_count": 161,
     "metadata": {},
     "output_type": "execute_result"
    }
   ],
   "source": [
    "def cubesum(num):\n",
    "    '''\n",
    "    Arg: A Number on which sum of cubes of each digit has to be calculated\n",
    "    Returns: Sum of Cubes of Each Digit of the Number\n",
    "    '''\n",
    "    total_sum = 0\n",
    "    while(num):\n",
    "        total_sum += ((num % 10) ** 3)\n",
    "        num = int(num / 10)\n",
    "    return total_sum\n",
    "\n",
    "cubesum(371)"
   ]
  },
  {
   "cell_type": "code",
   "execution_count": 162,
   "metadata": {},
   "outputs": [
    {
     "name": "stdout",
     "output_type": "stream",
     "text": [
      "0\n",
      "1\n",
      "153\n",
      "370\n",
      "371\n",
      "407\n"
     ]
    }
   ],
   "source": [
    "def ifArmstrong(num):\n",
    "    '''\n",
    "    Arg: A Number\n",
    "    Returns: True if Armstrong Number and False otherwise\n",
    "    '''\n",
    "    return num == cubesum(num)\n",
    "\n",
    "def printArmstrong(num):\n",
    "    '''\n",
    "    Arg: A Number upto which Armstrong Number has to be checked\n",
    "    Returns: Prints all Armstrong Numbers less than given number and returns nothing.\n",
    "    '''\n",
    "    for i in range(num):\n",
    "        if ifArmstrong(i):\n",
    "            print(i)\n",
    "    return\n",
    "\n",
    "printArmstrong(1000)\n"
   ]
  },
  {
   "cell_type": "markdown",
   "metadata": {},
   "source": [
    "# 7 Write a function prodDigits() that inputs a number and returns the product of digits of that number."
   ]
  },
  {
   "cell_type": "code",
   "execution_count": 163,
   "metadata": {},
   "outputs": [
    {
     "data": {
      "text/plain": [
       "1024"
      ]
     },
     "execution_count": 163,
     "metadata": {},
     "output_type": "execute_result"
    }
   ],
   "source": [
    "def prodDigits(num):\n",
    "    '''\n",
    "    Arg: A Number\n",
    "    Returns: Product of all digits of the given number\n",
    "    '''\n",
    "    product = 1\n",
    "    while(num):\n",
    "        product *= (num % 10)\n",
    "        num //= 10\n",
    "    return product\n",
    "\n",
    "prodDigits(8882)"
   ]
  },
  {
   "cell_type": "markdown",
   "metadata": {},
   "source": [
    "# 8. If all digits of a number n are multiplied by each other repeating with the product, the one digit number obtained at last is called the multiplicative digital root of n. The number of times digits need to be multiplied to reach one digit is called the multiplicative persistance of n.\n",
    "# Example: 86 -> 48 -> 32 -> 6 (MDR 6, MPersistence 3)\n",
    "# 341 -> 12->2 (MDR 2, MPersistence 2)\n",
    "# Using the function prodDigits() of previous exercise write functions MDR() and MPersistence() that input a number and return its multiplicative digital root and multiplicative persistence respectively"
   ]
  },
  {
   "cell_type": "code",
   "execution_count": 164,
   "metadata": {},
   "outputs": [
    {
     "data": {
      "text/plain": [
       "2"
      ]
     },
     "execution_count": 164,
     "metadata": {},
     "output_type": "execute_result"
    }
   ],
   "source": [
    "def MDR(num):\n",
    "    '''\n",
    "    Arg: A Number\n",
    "    Retrns: MDR of the given number\n",
    "    '''\n",
    "    while (num > 9):\n",
    "        num = prodDigits(num)\n",
    "    return num\n",
    "\n",
    "MDR(126)"
   ]
  },
  {
   "cell_type": "code",
   "execution_count": 165,
   "metadata": {},
   "outputs": [
    {
     "data": {
      "text/plain": [
       "2"
      ]
     },
     "execution_count": 165,
     "metadata": {},
     "output_type": "execute_result"
    }
   ],
   "source": [
    "def MPersistence(num):\n",
    "    '''\n",
    "    Arg: A Number\n",
    "    Returns: Multiplicative Persistence of the Number\n",
    "    '''\n",
    "    mp = 0\n",
    "    while (num > 9):\n",
    "        num = prodDigits(num)\n",
    "        mp += 1\n",
    "    return mp\n",
    "\n",
    "MPersistence(341)"
   ]
  },
  {
   "cell_type": "markdown",
   "metadata": {},
   "source": [
    "# 9. Write a function sumPdivisors() that finds the sum of proper divisors of a number. Proper divisors of a number are those numbers by which the number is divisible, except the number itself. For example proper divisors of 36 are 1, 2, 3, 4, 6, 9, 18"
   ]
  },
  {
   "cell_type": "code",
   "execution_count": 166,
   "metadata": {},
   "outputs": [
    {
     "data": {
      "text/plain": [
       "55"
      ]
     },
     "execution_count": 166,
     "metadata": {},
     "output_type": "execute_result"
    }
   ],
   "source": [
    "def sumPdivisors(num):\n",
    "    '''\n",
    "    Arg: A Number\n",
    "    Returns: Sum of Proper Divisors of the Given Number\n",
    "    '''\n",
    "    if num == 0:\n",
    "        return 0\n",
    "    \n",
    "    total = 1\n",
    "    for i in range(2, ceil(sqrt(num)) + 1):\n",
    "        if num % i == 0:\n",
    "            total += i\n",
    "            if num / i != i:\n",
    "                total += int(num / i)\n",
    "    return total\n",
    "\n",
    "sumPdivisors(36)"
   ]
  },
  {
   "cell_type": "markdown",
   "metadata": {},
   "source": [
    "# 10. A number is called perfect if the sum of proper divisors of that number is equal to the number. For example 28 is perfect number, since 1+2+4+7+14=28. Write a program to print all the perfect numbers in a given range"
   ]
  },
  {
   "cell_type": "code",
   "execution_count": 167,
   "metadata": {},
   "outputs": [
    {
     "data": {
      "text/plain": [
       "[1, 28]"
      ]
     },
     "execution_count": 167,
     "metadata": {},
     "output_type": "execute_result"
    }
   ],
   "source": [
    "def list_perfect_numbers(num):\n",
    "    '''\n",
    "    Arg: A Number\n",
    "    Returns : All Perfect Numbers Less than a Given Number    \n",
    "    '''\n",
    "    all_perfects = []\n",
    "    for curr_num in range(1, num):\n",
    "        if curr_num == sumPdivisors(curr_num):\n",
    "            all_perfects.append(curr_num)\n",
    "        \n",
    "    return all_perfects\n",
    "\n",
    "list_perfect_numbers(100)"
   ]
  },
  {
   "cell_type": "markdown",
   "metadata": {},
   "source": [
    "# 11. Two different numbers are called amicable numbers if the sum of the proper divisors of each is equal to the other number. For example 220 and 284 are amicable numbers.  \n",
    "# Sum of proper divisors of 220 = 1+2+4+5+10+11+20+22+44+55+110 = 284\n",
    "# Sum of proper divisors of 284 = 1+2+4+71+142 = 220\n",
    "# Write a function to print pairs of amicable numbers in a range"
   ]
  },
  {
   "cell_type": "code",
   "execution_count": 168,
   "metadata": {},
   "outputs": [
    {
     "name": "stdout",
     "output_type": "stream",
     "text": [
      "[(220, 284)]\n"
     ]
    }
   ],
   "source": [
    "def list_amicable_numbers(num):\n",
    "    '''\n",
    "    Arg: A Number\n",
    "    Returns: A List of Pairs of Amicable Numbers less than given number\n",
    "    '''\n",
    "    all_amicable = []\n",
    "    visited_dict = {each_num: False for each_num in range(1, num)}\n",
    "    \n",
    "    for curr_num in range(1, num):\n",
    "        pair_num = sumPdivisors(curr_num)\n",
    "        if not visited_dict[curr_num] and pair_num < num and sumPdivisors(pair_num) == curr_num and pair_num != curr_num:\n",
    "            all_amicable.append((curr_num, pair_num))\n",
    "            visited_dict[curr_num] = True; visited_dict[pair_num] = True\n",
    "    return all_amicable\n",
    "\n",
    "print(list_amicable_numbers(1000))"
   ]
  },
  {
   "cell_type": "markdown",
   "metadata": {},
   "source": [
    "# 12. Write a program which can filter odd numbers in a list by using filter function"
   ]
  },
  {
   "cell_type": "code",
   "execution_count": 169,
   "metadata": {},
   "outputs": [
    {
     "name": "stdout",
     "output_type": "stream",
     "text": [
      "[1, 3, 5, 7, 9, 11, 13, 15, 17, 19, 21, 23, 25, 27, 29, 31, 33, 35, 37, 39, 41, 43, 45, 47, 49, 51, 53, 55, 57, 59, 61, 63, 65, 67, 69, 71, 73, 75, 77, 79, 81, 83, 85, 87, 89, 91, 93, 95, 97, 99]\n"
     ]
    }
   ],
   "source": [
    "def filter_odd_numbers(complete_list):\n",
    "    '''\n",
    "    Arg: A list containing both even and odd numbers\n",
    "    Return: A list containing only odd numbers\n",
    "    '''\n",
    "    return list(filter(lambda x: x % 2, complete_list))\n",
    "\n",
    "print(filter_odd_numbers(list(range(101))))"
   ]
  },
  {
   "cell_type": "markdown",
   "metadata": {},
   "source": [
    "# 13. Write a program which can map() to make a list whose elements are cube of elements in a given list"
   ]
  },
  {
   "cell_type": "code",
   "execution_count": 170,
   "metadata": {},
   "outputs": [
    {
     "name": "stdout",
     "output_type": "stream",
     "text": [
      "[0, 1, 8, 27, 64, 125, 216, 343, 512, 729, 1000]\n"
     ]
    }
   ],
   "source": [
    "\n",
    "def map_cubes(complete_list):\n",
    "    '''\n",
    "    Arg: A List of numbers\n",
    "    Returns: A List of Cubes of Numbers in a given list\n",
    "    '''\n",
    "    return list(map(lambda x: x ** 3, complete_list))\n",
    "\n",
    "print(map_cubes(list(range(11))))"
   ]
  },
  {
   "cell_type": "markdown",
   "metadata": {},
   "source": [
    "# 14. Write a program which can map() and filter() to make a list whose elements are cube of even number in a given list"
   ]
  },
  {
   "cell_type": "code",
   "execution_count": 171,
   "metadata": {},
   "outputs": [
    {
     "name": "stdout",
     "output_type": "stream",
     "text": [
      "[0, 8, 64, 216, 512, 1000]\n"
     ]
    }
   ],
   "source": [
    "\n",
    "def map_cubes_filter_odds(complete_list):\n",
    "    '''\n",
    "    Arg: A List of numbers\n",
    "    Returns: A List of Cubes of only even numbers in a given list\n",
    "    '''\n",
    "    #return map_cubes(filter_odd_numbers(complete_list))\n",
    "    return list(map(lambda x: x ** 3, list(filter(lambda x: x % 2 == 0, complete_list))))\n",
    "\n",
    "print(map_cubes_filter_odds(range(11)))"
   ]
  },
  {
   "cell_type": "code",
   "execution_count": null,
   "metadata": {},
   "outputs": [],
   "source": []
  }
 ],
 "metadata": {
  "kernelspec": {
   "display_name": "Python 3",
   "language": "python",
   "name": "python3"
  },
  "language_info": {
   "codemirror_mode": {
    "name": "ipython",
    "version": 3
   },
   "file_extension": ".py",
   "mimetype": "text/x-python",
   "name": "python",
   "nbconvert_exporter": "python",
   "pygments_lexer": "ipython3",
   "version": "3.7.1"
  }
 },
 "nbformat": 4,
 "nbformat_minor": 2
}
