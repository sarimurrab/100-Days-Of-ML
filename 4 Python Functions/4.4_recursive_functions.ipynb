{
 "cells": [
  {
   "cell_type": "markdown",
   "metadata": {
    "colab_type": "text",
    "id": "2un6HEflRbVI"
   },
   "source": [
    "# Recurison"
   ]
  },
  {
   "cell_type": "markdown",
   "metadata": {
    "colab_type": "text",
    "id": "pouXX8gWRbVJ"
   },
   "source": [
    "We know that in Python, a function can call other functions. It is even possible for the function to call itself. These type of construct are termed as recursive functions."
   ]
  },
  {
   "cell_type": "markdown",
   "metadata": {
    "colab_type": "text",
    "id": "ZVWIU4QvRbVK"
   },
   "source": [
    "# Example:"
   ]
  },
  {
   "cell_type": "code",
   "execution_count": 5,
   "metadata": {
    "colab": {
     "base_uri": "https://localhost:8080/",
     "height": 34
    },
    "colab_type": "code",
    "executionInfo": {
     "elapsed": 1252,
     "status": "ok",
     "timestamp": 1553692648350,
     "user": {
      "displayName": "Applied AI Course",
      "photoUrl": "https://lh3.googleusercontent.com/-EsJzSyawCkQ/AAAAAAAAAAI/AAAAAAAAEIk/w9ORR2FfvaE/s64/photo.jpg",
      "userId": "06629147635963609455"
     },
     "user_tz": -330
    },
    "id": "mnaRd5dzRbVL",
    "outputId": "f6f3bc7b-195a-489d-dd0b-b4eca5ea55b6"
   },
   "outputs": [
    {
     "name": "stdout",
     "output_type": "stream",
     "text": [
      "Factorial of 5 is 120\n"
     ]
    }
   ],
   "source": [
    "#python program to print factorial of a number using recurion\n",
    "\n",
    "def factorial(num):\n",
    "    \"\"\"\n",
    "    This is a recursive function to find the factorial of a given number\n",
    "    \"\"\"\n",
    "    return 1 if num == 1 else (num * factorial(num-1))\n",
    "\n",
    "num = 5\n",
    "print (\"Factorial of {0} is {1}\".format(num, factorial(num)))\n"
   ]
  },
  {
   "cell_type": "markdown",
   "metadata": {
    "colab_type": "text",
    "id": "s2ewPFszRbVR"
   },
   "source": [
    "# Advantages"
   ]
  },
  {
   "cell_type": "markdown",
   "metadata": {
    "colab_type": "text",
    "id": "Gl6k7MLLRbVR"
   },
   "source": [
    "1. Recursive functions make the code look clean and elegant.\n",
    "\n",
    "2. A complex task can be broken down into simpler sub-problems using recursion.\n",
    "\n",
    "3. Sequence generation is easier with recursion than using some nested iteration.\n"
   ]
  },
  {
   "cell_type": "markdown",
   "metadata": {
    "colab_type": "text",
    "id": "tZh9p_qrRbVS"
   },
   "source": [
    "# Disadvantages"
   ]
  },
  {
   "cell_type": "markdown",
   "metadata": {
    "colab_type": "text",
    "id": "lzJRnnfdRbVT"
   },
   "source": [
    "1. Sometimes the logic behind recursion is hard to follow through.\n",
    "\n",
    "2. Recursive calls are expensive (inefficient) as they take up a lot of memory and time.\n",
    "\n",
    "3. Recursive functions are hard to debug.\n"
   ]
  },
  {
   "cell_type": "markdown",
   "metadata": {
    "colab_type": "text",
    "id": "wSEYBp_BRbVU"
   },
   "source": [
    "# Python program to display the fibonacci sequence up to n-th term using recursive function"
   ]
  },
  {
   "cell_type": "code",
   "execution_count": 4,
   "metadata": {
    "colab": {},
    "colab_type": "code",
    "id": "598cYHQ3RbVW",
    "outputId": "ce16556a-3444-4c1f-8180-478d41583dac"
   },
   "outputs": [
    {
     "name": "stdout",
     "output_type": "stream",
     "text": [
      "Fibonacci sequence\n",
      "0\n",
      "1\n",
      "1\n",
      "2\n",
      "3\n",
      "5\n",
      "8\n",
      "13\n",
      "21\n",
      "34\n"
     ]
    }
   ],
   "source": [
    "def fibonacci(num):\n",
    "    \"\"\"\n",
    "    Recursive function to print fibonacci sequence\n",
    "    \"\"\"\n",
    "    return num if num <= 1 else fibonacci(num-1) + fibonacci(num-2)\n",
    "\n",
    "nterms = 10\n",
    "print(\"Fibonacci sequence\")\n",
    "for num in range(nterms):\n",
    "    print(fibonacci(num))"
   ]
  },
  {
   "cell_type": "code",
   "execution_count": 0,
   "metadata": {
    "colab": {},
    "colab_type": "code",
    "id": "lzigbouGRbVa"
   },
   "outputs": [],
   "source": []
  }
 ],
 "metadata": {
  "colab": {
   "name": "4_recursive_functions.ipynb",
   "provenance": [],
   "version": "0.3.2"
  },
  "kernelspec": {
   "display_name": "Python 3",
   "language": "python",
   "name": "python3"
  },
  "language_info": {
   "codemirror_mode": {
    "name": "ipython",
    "version": 3
   },
   "file_extension": ".py",
   "mimetype": "text/x-python",
   "name": "python",
   "nbconvert_exporter": "python",
   "pygments_lexer": "ipython3",
   "version": "3.7.1"
  }
 },
 "nbformat": 4,
 "nbformat_minor": 1
}
